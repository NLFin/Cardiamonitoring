{
 "cells": [
  {
   "cell_type": "code",
   "execution_count": 1,
   "id": "7462835a-6f3e-494d-870f-3922b22143c4",
   "metadata": {
    "tags": []
   },
   "outputs": [
    {
     "name": "stderr",
     "output_type": "stream",
     "text": [
      "C:\\Users\\Max\\AppData\\Local\\Programs\\Python\\Python39\\lib\\site-packages\\scipy\\__init__.py:177: UserWarning: A NumPy version >=1.18.5 and <1.26.0 is required for this version of SciPy (detected version 1.26.0\n",
      "  warnings.warn(f\"A NumPy version >={np_minversion} and <{np_maxversion}\"\n"
     ]
    }
   ],
   "source": [
    "import numpy as np\n",
    "import pandas as pd\n",
    "\n",
    "import matplotlib.pyplot as plt\n",
    "import seaborn as sns"
   ]
  },
  {
   "cell_type": "markdown",
   "id": "5d76f7b8-ecfa-464f-844e-b719aa29c1a1",
   "metadata": {},
   "source": [
    "## Подгрузка данных и исследовательский анализ "
   ]
  },
  {
   "cell_type": "code",
   "execution_count": 2,
   "id": "4c0aec10-09d8-428f-9da2-8d1a4f9b378a",
   "metadata": {
    "tags": []
   },
   "outputs": [
    {
     "data": {
      "text/html": [
       "<div>\n",
       "<style scoped>\n",
       "    .dataframe tbody tr th:only-of-type {\n",
       "        vertical-align: middle;\n",
       "    }\n",
       "\n",
       "    .dataframe tbody tr th {\n",
       "        vertical-align: top;\n",
       "    }\n",
       "\n",
       "    .dataframe thead th {\n",
       "        text-align: right;\n",
       "    }\n",
       "</style>\n",
       "<table border=\"1\" class=\"dataframe\">\n",
       "  <thead>\n",
       "    <tr style=\"text-align: right;\">\n",
       "      <th></th>\n",
       "      <th>age</th>\n",
       "      <th>sex</th>\n",
       "      <th>cp</th>\n",
       "      <th>trtbps</th>\n",
       "      <th>chol</th>\n",
       "      <th>fbs</th>\n",
       "      <th>restecg</th>\n",
       "      <th>thalachh</th>\n",
       "      <th>exng</th>\n",
       "      <th>oldpeak</th>\n",
       "      <th>slp</th>\n",
       "      <th>caa</th>\n",
       "      <th>thall</th>\n",
       "      <th>output</th>\n",
       "    </tr>\n",
       "  </thead>\n",
       "  <tbody>\n",
       "    <tr>\n",
       "      <th>0</th>\n",
       "      <td>63</td>\n",
       "      <td>1</td>\n",
       "      <td>3</td>\n",
       "      <td>145</td>\n",
       "      <td>233</td>\n",
       "      <td>1</td>\n",
       "      <td>0</td>\n",
       "      <td>150</td>\n",
       "      <td>0</td>\n",
       "      <td>2.3</td>\n",
       "      <td>0</td>\n",
       "      <td>0</td>\n",
       "      <td>1</td>\n",
       "      <td>1</td>\n",
       "    </tr>\n",
       "    <tr>\n",
       "      <th>1</th>\n",
       "      <td>37</td>\n",
       "      <td>1</td>\n",
       "      <td>2</td>\n",
       "      <td>130</td>\n",
       "      <td>250</td>\n",
       "      <td>0</td>\n",
       "      <td>1</td>\n",
       "      <td>187</td>\n",
       "      <td>0</td>\n",
       "      <td>3.5</td>\n",
       "      <td>0</td>\n",
       "      <td>0</td>\n",
       "      <td>2</td>\n",
       "      <td>1</td>\n",
       "    </tr>\n",
       "    <tr>\n",
       "      <th>2</th>\n",
       "      <td>41</td>\n",
       "      <td>0</td>\n",
       "      <td>1</td>\n",
       "      <td>130</td>\n",
       "      <td>204</td>\n",
       "      <td>0</td>\n",
       "      <td>0</td>\n",
       "      <td>172</td>\n",
       "      <td>0</td>\n",
       "      <td>1.4</td>\n",
       "      <td>2</td>\n",
       "      <td>0</td>\n",
       "      <td>2</td>\n",
       "      <td>1</td>\n",
       "    </tr>\n",
       "    <tr>\n",
       "      <th>3</th>\n",
       "      <td>56</td>\n",
       "      <td>1</td>\n",
       "      <td>1</td>\n",
       "      <td>120</td>\n",
       "      <td>236</td>\n",
       "      <td>0</td>\n",
       "      <td>1</td>\n",
       "      <td>178</td>\n",
       "      <td>0</td>\n",
       "      <td>0.8</td>\n",
       "      <td>2</td>\n",
       "      <td>0</td>\n",
       "      <td>2</td>\n",
       "      <td>1</td>\n",
       "    </tr>\n",
       "    <tr>\n",
       "      <th>4</th>\n",
       "      <td>57</td>\n",
       "      <td>0</td>\n",
       "      <td>0</td>\n",
       "      <td>120</td>\n",
       "      <td>354</td>\n",
       "      <td>0</td>\n",
       "      <td>1</td>\n",
       "      <td>163</td>\n",
       "      <td>1</td>\n",
       "      <td>0.6</td>\n",
       "      <td>2</td>\n",
       "      <td>0</td>\n",
       "      <td>2</td>\n",
       "      <td>1</td>\n",
       "    </tr>\n",
       "  </tbody>\n",
       "</table>\n",
       "</div>"
      ],
      "text/plain": [
       "   age  sex  cp  trtbps  chol  fbs  restecg  thalachh  exng  oldpeak  slp  \\\n",
       "0   63    1   3     145   233    1        0       150     0      2.3    0   \n",
       "1   37    1   2     130   250    0        1       187     0      3.5    0   \n",
       "2   41    0   1     130   204    0        0       172     0      1.4    2   \n",
       "3   56    1   1     120   236    0        1       178     0      0.8    2   \n",
       "4   57    0   0     120   354    0        1       163     1      0.6    2   \n",
       "\n",
       "   caa  thall  output  \n",
       "0    0      1       1  \n",
       "1    0      2       1  \n",
       "2    0      2       1  \n",
       "3    0      2       1  \n",
       "4    0      2       1  "
      ]
     },
     "execution_count": 2,
     "metadata": {},
     "output_type": "execute_result"
    }
   ],
   "source": [
    "df = pd.read_csv(\"heart.csv\")\n",
    "df. head()"
   ]
  },
  {
   "cell_type": "code",
   "execution_count": 4,
   "id": "e5b1d242-4808-425e-8ff0-6a7ae4f8165a",
   "metadata": {
    "tags": []
   },
   "outputs": [
    {
     "data": {
      "text/plain": [
       "age           int64\n",
       "sex           int64\n",
       "cp            int64\n",
       "trtbps        int64\n",
       "chol          int64\n",
       "fbs           int64\n",
       "restecg       int64\n",
       "thalachh      int64\n",
       "exng          int64\n",
       "oldpeak     float64\n",
       "slp           int64\n",
       "caa           int64\n",
       "thall         int64\n",
       "output        int64\n",
       "dtype: object"
      ]
     },
     "execution_count": 4,
     "metadata": {},
     "output_type": "execute_result"
    }
   ],
   "source": [
    "df.dtypes"
   ]
  },
  {
   "cell_type": "code",
   "execution_count": 5,
   "id": "e966cc41-6683-4ace-a84b-950d7e8f1fd3",
   "metadata": {
    "tags": []
   },
   "outputs": [
    {
     "data": {
      "text/html": [
       "<div>\n",
       "<style scoped>\n",
       "    .dataframe tbody tr th:only-of-type {\n",
       "        vertical-align: middle;\n",
       "    }\n",
       "\n",
       "    .dataframe tbody tr th {\n",
       "        vertical-align: top;\n",
       "    }\n",
       "\n",
       "    .dataframe thead th {\n",
       "        text-align: right;\n",
       "    }\n",
       "</style>\n",
       "<table border=\"1\" class=\"dataframe\">\n",
       "  <thead>\n",
       "    <tr style=\"text-align: right;\">\n",
       "      <th></th>\n",
       "      <th>age</th>\n",
       "      <th>sex</th>\n",
       "      <th>cp</th>\n",
       "      <th>trtbps</th>\n",
       "      <th>chol</th>\n",
       "      <th>fbs</th>\n",
       "      <th>restecg</th>\n",
       "      <th>thalachh</th>\n",
       "      <th>exng</th>\n",
       "      <th>oldpeak</th>\n",
       "      <th>slp</th>\n",
       "      <th>caa</th>\n",
       "      <th>thall</th>\n",
       "      <th>output</th>\n",
       "    </tr>\n",
       "  </thead>\n",
       "  <tbody>\n",
       "    <tr>\n",
       "      <th>count</th>\n",
       "      <td>303.000000</td>\n",
       "      <td>303.000000</td>\n",
       "      <td>303.000000</td>\n",
       "      <td>303.000000</td>\n",
       "      <td>303.000000</td>\n",
       "      <td>303.000000</td>\n",
       "      <td>303.000000</td>\n",
       "      <td>303.000000</td>\n",
       "      <td>303.000000</td>\n",
       "      <td>303.000000</td>\n",
       "      <td>303.000000</td>\n",
       "      <td>303.000000</td>\n",
       "      <td>303.000000</td>\n",
       "      <td>303.000000</td>\n",
       "    </tr>\n",
       "    <tr>\n",
       "      <th>mean</th>\n",
       "      <td>54.366337</td>\n",
       "      <td>0.683168</td>\n",
       "      <td>0.966997</td>\n",
       "      <td>131.623762</td>\n",
       "      <td>246.264026</td>\n",
       "      <td>0.148515</td>\n",
       "      <td>0.528053</td>\n",
       "      <td>149.646865</td>\n",
       "      <td>0.326733</td>\n",
       "      <td>1.039604</td>\n",
       "      <td>1.399340</td>\n",
       "      <td>0.729373</td>\n",
       "      <td>2.313531</td>\n",
       "      <td>0.544554</td>\n",
       "    </tr>\n",
       "    <tr>\n",
       "      <th>std</th>\n",
       "      <td>9.082101</td>\n",
       "      <td>0.466011</td>\n",
       "      <td>1.032052</td>\n",
       "      <td>17.538143</td>\n",
       "      <td>51.830751</td>\n",
       "      <td>0.356198</td>\n",
       "      <td>0.525860</td>\n",
       "      <td>22.905161</td>\n",
       "      <td>0.469794</td>\n",
       "      <td>1.161075</td>\n",
       "      <td>0.616226</td>\n",
       "      <td>1.022606</td>\n",
       "      <td>0.612277</td>\n",
       "      <td>0.498835</td>\n",
       "    </tr>\n",
       "    <tr>\n",
       "      <th>min</th>\n",
       "      <td>29.000000</td>\n",
       "      <td>0.000000</td>\n",
       "      <td>0.000000</td>\n",
       "      <td>94.000000</td>\n",
       "      <td>126.000000</td>\n",
       "      <td>0.000000</td>\n",
       "      <td>0.000000</td>\n",
       "      <td>71.000000</td>\n",
       "      <td>0.000000</td>\n",
       "      <td>0.000000</td>\n",
       "      <td>0.000000</td>\n",
       "      <td>0.000000</td>\n",
       "      <td>0.000000</td>\n",
       "      <td>0.000000</td>\n",
       "    </tr>\n",
       "    <tr>\n",
       "      <th>25%</th>\n",
       "      <td>47.500000</td>\n",
       "      <td>0.000000</td>\n",
       "      <td>0.000000</td>\n",
       "      <td>120.000000</td>\n",
       "      <td>211.000000</td>\n",
       "      <td>0.000000</td>\n",
       "      <td>0.000000</td>\n",
       "      <td>133.500000</td>\n",
       "      <td>0.000000</td>\n",
       "      <td>0.000000</td>\n",
       "      <td>1.000000</td>\n",
       "      <td>0.000000</td>\n",
       "      <td>2.000000</td>\n",
       "      <td>0.000000</td>\n",
       "    </tr>\n",
       "    <tr>\n",
       "      <th>50%</th>\n",
       "      <td>55.000000</td>\n",
       "      <td>1.000000</td>\n",
       "      <td>1.000000</td>\n",
       "      <td>130.000000</td>\n",
       "      <td>240.000000</td>\n",
       "      <td>0.000000</td>\n",
       "      <td>1.000000</td>\n",
       "      <td>153.000000</td>\n",
       "      <td>0.000000</td>\n",
       "      <td>0.800000</td>\n",
       "      <td>1.000000</td>\n",
       "      <td>0.000000</td>\n",
       "      <td>2.000000</td>\n",
       "      <td>1.000000</td>\n",
       "    </tr>\n",
       "    <tr>\n",
       "      <th>75%</th>\n",
       "      <td>61.000000</td>\n",
       "      <td>1.000000</td>\n",
       "      <td>2.000000</td>\n",
       "      <td>140.000000</td>\n",
       "      <td>274.500000</td>\n",
       "      <td>0.000000</td>\n",
       "      <td>1.000000</td>\n",
       "      <td>166.000000</td>\n",
       "      <td>1.000000</td>\n",
       "      <td>1.600000</td>\n",
       "      <td>2.000000</td>\n",
       "      <td>1.000000</td>\n",
       "      <td>3.000000</td>\n",
       "      <td>1.000000</td>\n",
       "    </tr>\n",
       "    <tr>\n",
       "      <th>max</th>\n",
       "      <td>77.000000</td>\n",
       "      <td>1.000000</td>\n",
       "      <td>3.000000</td>\n",
       "      <td>200.000000</td>\n",
       "      <td>564.000000</td>\n",
       "      <td>1.000000</td>\n",
       "      <td>2.000000</td>\n",
       "      <td>202.000000</td>\n",
       "      <td>1.000000</td>\n",
       "      <td>6.200000</td>\n",
       "      <td>2.000000</td>\n",
       "      <td>4.000000</td>\n",
       "      <td>3.000000</td>\n",
       "      <td>1.000000</td>\n",
       "    </tr>\n",
       "  </tbody>\n",
       "</table>\n",
       "</div>"
      ],
      "text/plain": [
       "              age         sex          cp      trtbps        chol         fbs  \\\n",
       "count  303.000000  303.000000  303.000000  303.000000  303.000000  303.000000   \n",
       "mean    54.366337    0.683168    0.966997  131.623762  246.264026    0.148515   \n",
       "std      9.082101    0.466011    1.032052   17.538143   51.830751    0.356198   \n",
       "min     29.000000    0.000000    0.000000   94.000000  126.000000    0.000000   \n",
       "25%     47.500000    0.000000    0.000000  120.000000  211.000000    0.000000   \n",
       "50%     55.000000    1.000000    1.000000  130.000000  240.000000    0.000000   \n",
       "75%     61.000000    1.000000    2.000000  140.000000  274.500000    0.000000   \n",
       "max     77.000000    1.000000    3.000000  200.000000  564.000000    1.000000   \n",
       "\n",
       "          restecg    thalachh        exng     oldpeak         slp         caa  \\\n",
       "count  303.000000  303.000000  303.000000  303.000000  303.000000  303.000000   \n",
       "mean     0.528053  149.646865    0.326733    1.039604    1.399340    0.729373   \n",
       "std      0.525860   22.905161    0.469794    1.161075    0.616226    1.022606   \n",
       "min      0.000000   71.000000    0.000000    0.000000    0.000000    0.000000   \n",
       "25%      0.000000  133.500000    0.000000    0.000000    1.000000    0.000000   \n",
       "50%      1.000000  153.000000    0.000000    0.800000    1.000000    0.000000   \n",
       "75%      1.000000  166.000000    1.000000    1.600000    2.000000    1.000000   \n",
       "max      2.000000  202.000000    1.000000    6.200000    2.000000    4.000000   \n",
       "\n",
       "            thall      output  \n",
       "count  303.000000  303.000000  \n",
       "mean     2.313531    0.544554  \n",
       "std      0.612277    0.498835  \n",
       "min      0.000000    0.000000  \n",
       "25%      2.000000    0.000000  \n",
       "50%      2.000000    1.000000  \n",
       "75%      3.000000    1.000000  \n",
       "max      3.000000    1.000000  "
      ]
     },
     "execution_count": 5,
     "metadata": {},
     "output_type": "execute_result"
    }
   ],
   "source": [
    "df.describe()"
   ]
  },
  {
   "cell_type": "code",
   "execution_count": 6,
   "id": "ad0db4ba-a579-4c92-917d-27321a456dc6",
   "metadata": {
    "tags": []
   },
   "outputs": [
    {
     "data": {
      "text/plain": [
       "age         0\n",
       "sex         0\n",
       "cp          0\n",
       "trtbps      0\n",
       "chol        0\n",
       "fbs         0\n",
       "restecg     0\n",
       "thalachh    0\n",
       "exng        0\n",
       "oldpeak     0\n",
       "slp         0\n",
       "caa         0\n",
       "thall       0\n",
       "output      0\n",
       "dtype: int64"
      ]
     },
     "execution_count": 6,
     "metadata": {},
     "output_type": "execute_result"
    }
   ],
   "source": [
    "df.isnull().sum()"
   ]
  },
  {
   "cell_type": "markdown",
   "id": "c1fc3dc4-c900-4c25-b4d4-31acf6240541",
   "metadata": {},
   "source": [
    "Доступные нам характеристики записи:\n",
    "- age - возраст\n",
    "- sex - пол\n",
    "- cp - (chest pain) тип болей в груди\n",
    "- trtbps - (resting blood pressure) давление в состоянии покоя\n",
    "- chol - холестерин\n",
    "- fbs - сахар в крови натощак\n",
    "- restecg - результат экг в состоянии покоя\n",
    "- thalachh - пик значения пульса\n",
    "- exng - (exercise induced angina) наличие ангины\n",
    "- oldpeak \n",
    "- slp \n",
    "- caa - количество сосудов, подсвеченных рентгеноскопией\n",
    "- thall - талассемии \n",
    "- output - наличие проблем с сердцем\n",
    "\n",
    "Сразу заметные статистические факты:\n",
    "- возраст в датасете от 29 до 77, средний 54\n",
    "- поп полу выборка достаточно репрезентативна \n",
    "\n",
    "Типы данных:\n",
    "везде целые числа, кроме oldpeak\n",
    "\n",
    "Пропуски в данных отсутствуют\n",
    "Всего 303 строки"
   ]
  },
  {
   "cell_type": "markdown",
   "id": "f5eff1af-756d-46c4-9b2f-a3a536d4108b",
   "metadata": {},
   "source": [
    "#### Распределения основных характеристик\n",
    "Нарисуем распределения основных переменных, а также построим матрицу корреляций"
   ]
  },
  {
   "cell_type": "code",
   "execution_count": 7,
   "id": "19664289-a824-4586-b8e2-c40e9130c0e1",
   "metadata": {
    "tags": []
   },
   "outputs": [
    {
     "data": {
      "image/png": "[encoded data removed]",
      "text/plain": [
       "<Figure size 1080x1080 with 4 Axes>"
      ]
     },
     "metadata": {
      "needs_background": "light"
     },
     "output_type": "display_data"
    },
    {
     "data": {
      "image/png": "[encoded data removed]",
      "text/plain": [
       "<Figure size 864x576 with 2 Axes>"
      ]
     },
     "metadata": {
      "needs_background": "light"
     },
     "output_type": "display_data"
    }
   ],
   "source": [
    "fig, axes = plt.subplots(2, 2, figsize=(15, 15))\n",
    "sns.histplot(df['age'], kde=True, ax=axes[0, 0])\n",
    "axes[0, 0].set_title('Возраст')\n",
    "\n",
    "sns.countplot(x='sex', data=df, ax=axes[0, 1])\n",
    "axes[0, 1].set_title('Пол (0 = Ж, 1 = М)')\n",
    "\n",
    "sns.histplot(df['chol'], kde=True, ax=axes[1, 0])\n",
    "axes[1, 0].set_title('Уровни холестерина')\n",
    "\n",
    "sns.histplot(df['trtbps'], kde=True, ax=axes[1, 1])\n",
    "axes[1, 1].set_title('Даление в покое')\n",
    "\n",
    "plt.tight_layout()\n",
    "\n",
    "plt.figure(figsize=(12, 8))\n",
    "sns.heatmap(df.corr(), annot=True, fmt=\".2f\")\n",
    "plt.title(\"Матрица корреляций\")\n",
    "\n",
    "plt.show()"
   ]
  },
  {
   "cell_type": "markdown",
   "id": "90ac0a4c-4109-4bb8-a6e8-94a3a7b696d6",
   "metadata": {},
   "source": [
    "Результат построения матрицы корреляций:\n",
    "- Обнаружена обратно-пропорциональная свзяь возраста и талассемий\n",
    "- Переменная болей в груди показала явную положительную корреляцию с нацей целевой переменной, что может означать её полезность в качестве предиктора\n",
    "- exng, oldpeak, caa и thall показали явную отрицательную корреляцию с целевой переменной"
   ]
  },
  {
   "cell_type": "markdown",
   "id": "10f4cfe5-18ff-4237-82e0-d42a1c11ec56",
   "metadata": {},
   "source": [
    "#### Распределение целевой переменной"
   ]
  },
  {
   "cell_type": "code",
   "execution_count": 8,
   "id": "828a56c2-d2fe-4e57-bd43-a1db57e9a2e4",
   "metadata": {
    "tags": []
   },
   "outputs": [
    {
     "data": {
      "image/png": "[encoded data removed]",
      "text/plain": [
       "<Figure size 576x432 with 1 Axes>"
      ]
     },
     "metadata": {
      "needs_background": "light"
     },
     "output_type": "display_data"
    },
    {
     "data": {
      "text/plain": [
       "(output\n",
       " 1    165\n",
       " 0    138\n",
       " Name: count, dtype: int64,\n",
       " output\n",
       " 1    54.455446\n",
       " 0    45.544554\n",
       " Name: count, dtype: float64)"
      ]
     },
     "execution_count": 8,
     "metadata": {},
     "output_type": "execute_result"
    }
   ],
   "source": [
    "# вычислим количество и процент сердечно больных  \n",
    "heart_cnt = df['output'].value_counts()\n",
    "heart_pcnt = heart_cnt / df.shape[0] * 100\n",
    "\n",
    "plt.figure(figsize=(8, 6))\n",
    "sns.barplot(x=heart_cnt.index, y=heart_cnt.values)\n",
    "plt.title(\"Статистика больных\")\n",
    "plt.xlabel(\"Болен ли (0 = нет, 1 = да)\")\n",
    "plt.ylabel(\"Количество записей\")\n",
    "plt.xticks([0, 1], ['Здоров', 'Болен'])\n",
    "\n",
    "# вывод в процентах\n",
    "for index, value in enumerate(heart_cnt):\n",
    "    plt.text(index, value, f'{heart_pcnt[index]:.2f}%', ha='center')\n",
    "\n",
    "plt.show()\n",
    "\n",
    "heart_cnt, heart_pcnt"
   ]
  },
  {
   "cell_type": "markdown",
   "id": "f2691899-2935-4ab8-ae72-a22da67440e8",
   "metadata": {},
   "source": [
    "Целевая переменная распределена крайне равномерно, что должно улучшить результат нашего моделирования"
   ]
  },
  {
   "cell_type": "markdown",
   "id": "925af9c4-f688-4500-9eaa-01ae95c392b8",
   "metadata": {},
   "source": [
    "Рассмотрим распределение характеристик по целевым классам:"
   ]
  },
  {
   "cell_type": "code",
   "execution_count": 9,
   "id": "2a0f9470-07f7-4dbb-bdca-98c33eba6ead",
   "metadata": {
    "tags": []
   },
   "outputs": [
    {
     "data": {
      "text/html": [
       "<div>\n",
       "<style scoped>\n",
       "    .dataframe tbody tr th:only-of-type {\n",
       "        vertical-align: middle;\n",
       "    }\n",
       "\n",
       "    .dataframe tbody tr th {\n",
       "        vertical-align: top;\n",
       "    }\n",
       "\n",
       "    .dataframe thead th {\n",
       "        text-align: right;\n",
       "    }\n",
       "</style>\n",
       "<table border=\"1\" class=\"dataframe\">\n",
       "  <thead>\n",
       "    <tr style=\"text-align: right;\">\n",
       "      <th></th>\n",
       "      <th>metric</th>\n",
       "      <th>mean_yes</th>\n",
       "      <th>mean_no</th>\n",
       "    </tr>\n",
       "  </thead>\n",
       "  <tbody>\n",
       "    <tr>\n",
       "      <th>age</th>\n",
       "      <td>age</td>\n",
       "      <td>52.496970</td>\n",
       "      <td>56.601449</td>\n",
       "    </tr>\n",
       "    <tr>\n",
       "      <th>sex</th>\n",
       "      <td>sex</td>\n",
       "      <td>0.563636</td>\n",
       "      <td>0.826087</td>\n",
       "    </tr>\n",
       "    <tr>\n",
       "      <th>cp</th>\n",
       "      <td>cp</td>\n",
       "      <td>1.375758</td>\n",
       "      <td>0.478261</td>\n",
       "    </tr>\n",
       "    <tr>\n",
       "      <th>trtbps</th>\n",
       "      <td>trtbps</td>\n",
       "      <td>129.303030</td>\n",
       "      <td>134.398551</td>\n",
       "    </tr>\n",
       "    <tr>\n",
       "      <th>chol</th>\n",
       "      <td>chol</td>\n",
       "      <td>242.230303</td>\n",
       "      <td>251.086957</td>\n",
       "    </tr>\n",
       "    <tr>\n",
       "      <th>fbs</th>\n",
       "      <td>fbs</td>\n",
       "      <td>0.139394</td>\n",
       "      <td>0.159420</td>\n",
       "    </tr>\n",
       "    <tr>\n",
       "      <th>restecg</th>\n",
       "      <td>restecg</td>\n",
       "      <td>0.593939</td>\n",
       "      <td>0.449275</td>\n",
       "    </tr>\n",
       "    <tr>\n",
       "      <th>thalachh</th>\n",
       "      <td>thalachh</td>\n",
       "      <td>158.466667</td>\n",
       "      <td>139.101449</td>\n",
       "    </tr>\n",
       "    <tr>\n",
       "      <th>exng</th>\n",
       "      <td>exng</td>\n",
       "      <td>0.139394</td>\n",
       "      <td>0.550725</td>\n",
       "    </tr>\n",
       "    <tr>\n",
       "      <th>oldpeak</th>\n",
       "      <td>oldpeak</td>\n",
       "      <td>0.583030</td>\n",
       "      <td>1.585507</td>\n",
       "    </tr>\n",
       "    <tr>\n",
       "      <th>slp</th>\n",
       "      <td>slp</td>\n",
       "      <td>1.593939</td>\n",
       "      <td>1.166667</td>\n",
       "    </tr>\n",
       "    <tr>\n",
       "      <th>caa</th>\n",
       "      <td>caa</td>\n",
       "      <td>0.363636</td>\n",
       "      <td>1.166667</td>\n",
       "    </tr>\n",
       "    <tr>\n",
       "      <th>thall</th>\n",
       "      <td>thall</td>\n",
       "      <td>2.121212</td>\n",
       "      <td>2.543478</td>\n",
       "    </tr>\n",
       "  </tbody>\n",
       "</table>\n",
       "</div>"
      ],
      "text/plain": [
       "            metric    mean_yes     mean_no\n",
       "age            age   52.496970   56.601449\n",
       "sex            sex    0.563636    0.826087\n",
       "cp              cp    1.375758    0.478261\n",
       "trtbps      trtbps  129.303030  134.398551\n",
       "chol          chol  242.230303  251.086957\n",
       "fbs            fbs    0.139394    0.159420\n",
       "restecg    restecg    0.593939    0.449275\n",
       "thalachh  thalachh  158.466667  139.101449\n",
       "exng          exng    0.139394    0.550725\n",
       "oldpeak    oldpeak    0.583030    1.585507\n",
       "slp            slp    1.593939    1.166667\n",
       "caa            caa    0.363636    1.166667\n",
       "thall        thall    2.121212    2.543478"
      ]
     },
     "execution_count": 9,
     "metadata": {},
     "output_type": "execute_result"
    }
   ],
   "source": [
    "output_yes = df[df['output'] == 1]\n",
    "output_no = df[df['output'] == 0]\n",
    "\n",
    "# расчитываем средние значения\n",
    "metrics = ['age', 'sex', 'cp', 'trtbps', 'chol', 'fbs', 'restecg', 'thalachh', 'exng', 'oldpeak', 'slp', 'caa', 'thall']\n",
    "comparison_df = pd.DataFrame({\n",
    "    'metric': metrics,\n",
    "    'mean_yes': output_yes[metrics].mean(),\n",
    "    'mean_no': output_no[metrics].mean()\n",
    "})\n",
    "\n",
    "comparison_df"
   ]
  },
  {
   "cell_type": "markdown",
   "id": "9c83b13c-2775-4e93-a4a8-306268655c5a",
   "metadata": {},
   "source": [
    "## Выбор признаков\n"
   ]
  },
  {
   "cell_type": "code",
   "execution_count": 10,
   "id": "b74a4d0c-3f86-4664-8a96-b609283d6043",
   "metadata": {
    "tags": []
   },
   "outputs": [],
   "source": [
    "from sklearn.linear_model import LogisticRegression\n",
    "import statsmodels.api as sm"
   ]
  },
  {
   "cell_type": "code",
   "execution_count": 11,
   "id": "fda3af11-c769-4534-94c0-2cdc6a36b011",
   "metadata": {
    "tags": []
   },
   "outputs": [
    {
     "name": "stdout",
     "output_type": "stream",
     "text": [
      "Optimization terminated successfully.\n",
      "         Current function value: 0.348904\n",
      "         Iterations 7\n"
     ]
    },
    {
     "data": {
      "image/png": "[encoded data removed]",
      "text/plain": [
       "<Figure size 864x576 with 1 Axes>"
      ]
     },
     "metadata": {
      "needs_background": "light"
     },
     "output_type": "display_data"
    },
    {
     "data": {
      "text/html": [
       "<div>\n",
       "<style scoped>\n",
       "    .dataframe tbody tr th:only-of-type {\n",
       "        vertical-align: middle;\n",
       "    }\n",
       "\n",
       "    .dataframe tbody tr th {\n",
       "        vertical-align: top;\n",
       "    }\n",
       "\n",
       "    .dataframe thead th {\n",
       "        text-align: right;\n",
       "    }\n",
       "</style>\n",
       "<table border=\"1\" class=\"dataframe\">\n",
       "  <thead>\n",
       "    <tr style=\"text-align: right;\">\n",
       "      <th></th>\n",
       "      <th>Признаки</th>\n",
       "      <th>Коеффиценты</th>\n",
       "      <th>P-значения</th>\n",
       "      <th>Значимость</th>\n",
       "    </tr>\n",
       "  </thead>\n",
       "  <tbody>\n",
       "    <tr>\n",
       "      <th>0</th>\n",
       "      <td>age</td>\n",
       "      <td>-0.004908</td>\n",
       "      <td>0.832266</td>\n",
       "      <td>не значим</td>\n",
       "    </tr>\n",
       "    <tr>\n",
       "      <th>1</th>\n",
       "      <td>sex</td>\n",
       "      <td>-1.758181</td>\n",
       "      <td>0.000176</td>\n",
       "      <td>значим</td>\n",
       "    </tr>\n",
       "    <tr>\n",
       "      <th>2</th>\n",
       "      <td>cp</td>\n",
       "      <td>0.859851</td>\n",
       "      <td>0.000004</td>\n",
       "      <td>значим</td>\n",
       "    </tr>\n",
       "    <tr>\n",
       "      <th>3</th>\n",
       "      <td>trtbps</td>\n",
       "      <td>-0.019477</td>\n",
       "      <td>0.059582</td>\n",
       "      <td>не значим</td>\n",
       "    </tr>\n",
       "    <tr>\n",
       "      <th>4</th>\n",
       "      <td>chol</td>\n",
       "      <td>-0.004630</td>\n",
       "      <td>0.220873</td>\n",
       "      <td>не значим</td>\n",
       "    </tr>\n",
       "    <tr>\n",
       "      <th>5</th>\n",
       "      <td>fbs</td>\n",
       "      <td>0.034888</td>\n",
       "      <td>0.947464</td>\n",
       "      <td>не значим</td>\n",
       "    </tr>\n",
       "    <tr>\n",
       "      <th>6</th>\n",
       "      <td>restecg</td>\n",
       "      <td>0.466282</td>\n",
       "      <td>0.180618</td>\n",
       "      <td>не значим</td>\n",
       "    </tr>\n",
       "    <tr>\n",
       "      <th>7</th>\n",
       "      <td>thalachh</td>\n",
       "      <td>0.023211</td>\n",
       "      <td>0.026485</td>\n",
       "      <td>значим</td>\n",
       "    </tr>\n",
       "    <tr>\n",
       "      <th>8</th>\n",
       "      <td>exng</td>\n",
       "      <td>-0.979981</td>\n",
       "      <td>0.016782</td>\n",
       "      <td>значим</td>\n",
       "    </tr>\n",
       "    <tr>\n",
       "      <th>9</th>\n",
       "      <td>oldpeak</td>\n",
       "      <td>-0.540274</td>\n",
       "      <td>0.011523</td>\n",
       "      <td>значим</td>\n",
       "    </tr>\n",
       "    <tr>\n",
       "      <th>10</th>\n",
       "      <td>slp</td>\n",
       "      <td>0.579288</td>\n",
       "      <td>0.097717</td>\n",
       "      <td>не значим</td>\n",
       "    </tr>\n",
       "    <tr>\n",
       "      <th>11</th>\n",
       "      <td>caa</td>\n",
       "      <td>-0.773349</td>\n",
       "      <td>0.000051</td>\n",
       "      <td>значим</td>\n",
       "    </tr>\n",
       "    <tr>\n",
       "      <th>12</th>\n",
       "      <td>thall</td>\n",
       "      <td>-0.900432</td>\n",
       "      <td>0.001910</td>\n",
       "      <td>значим</td>\n",
       "    </tr>\n",
       "  </tbody>\n",
       "</table>\n",
       "</div>"
      ],
      "text/plain": [
       "    Признаки  Коеффиценты  P-значения Значимость\n",
       "0        age    -0.004908    0.832266  не значим\n",
       "1        sex    -1.758181    0.000176     значим\n",
       "2         cp     0.859851    0.000004     значим\n",
       "3     trtbps    -0.019477    0.059582  не значим\n",
       "4       chol    -0.004630    0.220873  не значим\n",
       "5        fbs     0.034888    0.947464  не значим\n",
       "6    restecg     0.466282    0.180618  не значим\n",
       "7   thalachh     0.023211    0.026485     значим\n",
       "8       exng    -0.979981    0.016782     значим\n",
       "9    oldpeak    -0.540274    0.011523     значим\n",
       "10       slp     0.579288    0.097717  не значим\n",
       "11       caa    -0.773349    0.000051     значим\n",
       "12     thall    -0.900432    0.001910     значим"
      ]
     },
     "execution_count": 11,
     "metadata": {},
     "output_type": "execute_result"
    }
   ],
   "source": [
    "# подготовка данных к логистической регрессии\n",
    "X = df.drop('output', axis=1)\n",
    "y = df['output']\n",
    "\n",
    "X_const = sm.add_constant(X)\n",
    "\n",
    "# строим логистическиую регрессию\n",
    "model = sm.Logit(y, X_const)\n",
    "result = model.fit()\n",
    "\n",
    "# достаём коеффиценты и p-значения\n",
    "coefficients = result.params[1:] \n",
    "p_values = result.pvalues[1:] \n",
    "\n",
    "# Дальше строим визуализацию\n",
    "viz_df = pd.DataFrame({\n",
    "    'Признаки': coefficients.index,\n",
    "    'Коеффиценты': coefficients.values,\n",
    "    'P-значения': p_values.values\n",
    "})\n",
    "\n",
    "viz_df['Значимость'] = np.where(viz_df['P-значения'] <= 0.05, 'значим', 'не значим')\n",
    "\n",
    "plt.figure(figsize=(12, 8))\n",
    "sns.barplot(x='Коеффиценты', y='Признаки', data=viz_df, hue='Значимость', dodge=False)\n",
    "plt.title('Коеффиценты логистической регрессии')\n",
    "plt.xlabel('Значения коеффицентов')\n",
    "plt.ylabel('Признаки')\n",
    "plt.axvline(x=0, color='grey', linestyle='--')\n",
    "plt.legend(title='Статистическая значимость', loc='lower right')\n",
    "\n",
    "plt.show()\n",
    "\n",
    "viz_df"
   ]
  },
  {
   "cell_type": "markdown",
   "id": "26769a31-fe65-4c0f-957c-06458912b58c",
   "metadata": {},
   "source": [
    "По итогу визуализации и расчетов P-значений видим, что статистически значимо отличаются только признаки sex, cp, thalachh, exng, oldpeak, caa, thall"
   ]
  },
  {
   "cell_type": "markdown",
   "id": "23d43d0b-42bc-4da4-bfac-290c142f4c53",
   "metadata": {},
   "source": [
    "## Обработка признаков"
   ]
  },
  {
   "cell_type": "code",
   "execution_count": 12,
   "id": "48772fc2-601a-45cc-9a08-e1d92f8b09f2",
   "metadata": {
    "tags": []
   },
   "outputs": [],
   "source": [
    "# Разобьем возраст на категории\n",
    "df['age_category'] = pd.cut(df['age'], bins=[0, 30, 45, 60, 120], labels=['<30', '30-45', '46-60', '>60'])\n",
    "\n",
    "# Добавим составные признаки\n",
    "df['age_chol'] = df['age'] * df['chol']\n",
    "df['bp_chol'] = df['trtbps'] * df['chol']\n",
    "\n",
    "# применим One-hot encoding к возрастной категории\n",
    "df_encoded = pd.get_dummies(df, columns=['age_category'], drop_first=True)\n",
    "\n",
    "if not all([dtype in [np.dtype('float64'), np.dtype('int64')] for dtype in df_encoded.dtypes]):\n",
    "    for col in df_encoded.select_dtypes(include=['object', 'category','bool']).columns:\n",
    "        df_encoded[col] = pd.to_numeric(df_encoded[col], errors='coerce')"
   ]
  },
  {
   "cell_type": "code",
   "execution_count": 13,
   "id": "24bbb072-7a30-42dd-89f4-9317a19eacbc",
   "metadata": {
    "tags": []
   },
   "outputs": [
    {
     "data": {
      "text/plain": [
       "age_category_30-45    int32\n",
       "age_category_46-60    int32\n",
       "age_category_>60      int32\n",
       "dtype: object"
      ]
     },
     "execution_count": 13,
     "metadata": {},
     "output_type": "execute_result"
    }
   ],
   "source": [
    "# переведём все двоичные переменные в целочисленные\n",
    "df_encoded['age_category_30-45'] = df_encoded['age_category_30-45'].astype(int)\n",
    "df_encoded['age_category_46-60'] = df_encoded['age_category_46-60'].astype(int)\n",
    "df_encoded['age_category_>60'] = df_encoded['age_category_>60'].astype(int)\n",
    "\n",
    "# проверим типы\n",
    "encoded_columns_types = df_encoded[['age_category_30-45', 'age_category_46-60', 'age_category_>60']].dtypes\n",
    "\n",
    "encoded_columns_types"
   ]
  },
  {
   "cell_type": "code",
   "execution_count": 14,
   "id": "f2f478d2-24bd-436a-b822-3225fde9f23d",
   "metadata": {
    "tags": []
   },
   "outputs": [
    {
     "name": "stdout",
     "output_type": "stream",
     "text": [
      "Warning: Maximum number of iterations has been exceeded.\n",
      "         Current function value: 0.346642\n",
      "         Iterations: 35\n"
     ]
    },
    {
     "name": "stderr",
     "output_type": "stream",
     "text": [
      "C:\\Users\\Max\\AppData\\Local\\Programs\\Python\\Python39\\lib\\site-packages\\statsmodels\\base\\model.py:604: ConvergenceWarning: Maximum Likelihood optimization failed to converge. Check mle_retvals\n",
      "  warnings.warn(\"Maximum Likelihood optimization failed to \"\n"
     ]
    },
    {
     "data": {
      "text/html": [
       "<table class=\"simpletable\">\n",
       "<tr>\n",
       "        <td>Model:</td>              <td>Logit</td>      <td>Pseudo R-squared:</td>    <td>0.497</td>  \n",
       "</tr>\n",
       "<tr>\n",
       "  <td>Dependent Variable:</td>      <td>output</td>            <td>AIC:</td>         <td>248.0651</td> \n",
       "</tr>\n",
       "<tr>\n",
       "         <td>Date:</td>        <td>2023-12-12 15:38</td>       <td>BIC:</td>         <td>318.6260</td> \n",
       "</tr>\n",
       "<tr>\n",
       "   <td>No. Observations:</td>         <td>303</td>        <td>Log-Likelihood:</td>    <td>-105.03</td> \n",
       "</tr>\n",
       "<tr>\n",
       "       <td>Df Model:</td>             <td>18</td>            <td>LL-Null:</td>        <td>-208.82</td> \n",
       "</tr>\n",
       "<tr>\n",
       "     <td>Df Residuals:</td>           <td>284</td>         <td>LLR p-value:</td>    <td>3.0492e-34</td>\n",
       "</tr>\n",
       "<tr>\n",
       "      <td>Converged:</td>           <td>0.0000</td>           <td>Scale:</td>         <td>1.0000</td>  \n",
       "</tr>\n",
       "<tr>\n",
       "    <td>No. Iterations:</td>        <td>35.0000</td>             <td></td>               <td></td>     \n",
       "</tr>\n",
       "</table>\n",
       "<table class=\"simpletable\">\n",
       "<tr>\n",
       "           <td></td>            <th>Coef.</th>   <th>Std.Err.</th>     <th>z</th>     <th>P>|z|</th>   <th>[0.025</th>      <th>0.975]</th>  \n",
       "</tr>\n",
       "<tr>\n",
       "  <th>const</th>               <td>16.3427</td> <td>15494.4889</td> <td>0.0011</td>  <td>0.9992</td> <td>-30352.2975</td> <td>30384.9828</td>\n",
       "</tr>\n",
       "<tr>\n",
       "  <th>age</th>                 <td>-0.0319</td>   <td>0.1065</td>   <td>-0.2995</td> <td>0.7646</td>   <td>-0.2407</td>     <td>0.1769</td>  \n",
       "</tr>\n",
       "<tr>\n",
       "  <th>sex</th>                 <td>-1.7593</td>   <td>0.4708</td>   <td>-3.7367</td> <td>0.0002</td>   <td>-2.6822</td>     <td>-0.8365</td> \n",
       "</tr>\n",
       "<tr>\n",
       "  <th>cp</th>                  <td>0.8523</td>    <td>0.1867</td>   <td>4.5639</td>  <td>0.0000</td>   <td>0.4863</td>      <td>1.2183</td>  \n",
       "</tr>\n",
       "<tr>\n",
       "  <th>trtbps</th>              <td>0.0206</td>    <td>0.0569</td>   <td>0.3615</td>  <td>0.7177</td>   <td>-0.0909</td>     <td>0.1320</td>  \n",
       "</tr>\n",
       "<tr>\n",
       "  <th>chol</th>                <td>0.0072</td>    <td>0.0366</td>   <td>0.1964</td>  <td>0.8443</td>   <td>-0.0646</td>     <td>0.0789</td>  \n",
       "</tr>\n",
       "<tr>\n",
       "  <th>fbs</th>                 <td>0.0707</td>    <td>0.5310</td>   <td>0.1331</td>  <td>0.8941</td>   <td>-0.9701</td>     <td>1.1114</td>  \n",
       "</tr>\n",
       "<tr>\n",
       "  <th>restecg</th>             <td>0.4568</td>    <td>0.3521</td>   <td>1.2973</td>  <td>0.1945</td>   <td>-0.2333</td>     <td>1.1469</td>  \n",
       "</tr>\n",
       "<tr>\n",
       "  <th>thalachh</th>            <td>0.0227</td>    <td>0.0105</td>   <td>2.1627</td>  <td>0.0306</td>   <td>0.0021</td>      <td>0.0433</td>  \n",
       "</tr>\n",
       "<tr>\n",
       "  <th>exng</th>                <td>-0.9454</td>   <td>0.4101</td>   <td>-2.3055</td> <td>0.0211</td>   <td>-1.7492</td>     <td>-0.1417</td> \n",
       "</tr>\n",
       "<tr>\n",
       "  <th>oldpeak</th>             <td>-0.5494</td>   <td>0.2162</td>   <td>-2.5407</td> <td>0.0111</td>   <td>-0.9733</td>     <td>-0.1256</td> \n",
       "</tr>\n",
       "<tr>\n",
       "  <th>slp</th>                 <td>0.5931</td>    <td>0.3510</td>   <td>1.6897</td>  <td>0.0911</td>   <td>-0.0949</td>     <td>1.2810</td>  \n",
       "</tr>\n",
       "<tr>\n",
       "  <th>caa</th>                 <td>-0.7950</td>   <td>0.1971</td>   <td>-4.0347</td> <td>0.0001</td>   <td>-1.1813</td>     <td>-0.4088</td> \n",
       "</tr>\n",
       "<tr>\n",
       "  <th>thall</th>               <td>-0.8825</td>   <td>0.2921</td>   <td>-3.0214</td> <td>0.0025</td>   <td>-1.4550</td>     <td>-0.3100</td> \n",
       "</tr>\n",
       "<tr>\n",
       "  <th>age_chol</th>            <td>0.0001</td>    <td>0.0004</td>   <td>0.3572</td>  <td>0.7209</td>   <td>-0.0007</td>     <td>0.0009</td>  \n",
       "</tr>\n",
       "<tr>\n",
       "  <th>bp_chol</th>             <td>-0.0002</td>   <td>0.0002</td>   <td>-0.7117</td> <td>0.4766</td>   <td>-0.0006</td>     <td>0.0003</td>  \n",
       "</tr>\n",
       "<tr>\n",
       "  <th>age_category_30-45</th> <td>-16.0826</td> <td>15494.4863</td> <td>-0.0010</td> <td>0.9992</td> <td>-30384.7177</td> <td>30352.5525</td>\n",
       "</tr>\n",
       "<tr>\n",
       "  <th>age_category_46-60</th> <td>-16.4747</td> <td>15494.4863</td> <td>-0.0011</td> <td>0.9992</td> <td>-30385.1098</td> <td>30352.1605</td>\n",
       "</tr>\n",
       "<tr>\n",
       "  <th>age_category_>60</th>   <td>-16.3373</td> <td>15494.4864</td> <td>-0.0011</td> <td>0.9992</td> <td>-30384.9726</td> <td>30352.2979</td>\n",
       "</tr>\n",
       "</table>"
      ],
      "text/plain": [
       "<class 'statsmodels.iolib.summary2.Summary'>\n",
       "\"\"\"\n",
       "                               Results: Logit\n",
       "============================================================================\n",
       "Model:                   Logit               Pseudo R-squared:    0.497     \n",
       "Dependent Variable:      output              AIC:                 248.0651  \n",
       "Date:                    2023-12-12 15:38    BIC:                 318.6260  \n",
       "No. Observations:        303                 Log-Likelihood:      -105.03   \n",
       "Df Model:                18                  LL-Null:             -208.82   \n",
       "Df Residuals:            284                 LLR p-value:         3.0492e-34\n",
       "Converged:               0.0000              Scale:               1.0000    \n",
       "No. Iterations:          35.0000                                            \n",
       "----------------------------------------------------------------------------\n",
       "                    Coef.    Std.Err.     z    P>|z|     [0.025     0.975]  \n",
       "----------------------------------------------------------------------------\n",
       "const               16.3427 15494.4889  0.0011 0.9992 -30352.2975 30384.9828\n",
       "age                 -0.0319     0.1065 -0.2995 0.7646     -0.2407     0.1769\n",
       "sex                 -1.7593     0.4708 -3.7367 0.0002     -2.6822    -0.8365\n",
       "cp                   0.8523     0.1867  4.5639 0.0000      0.4863     1.2183\n",
       "trtbps               0.0206     0.0569  0.3615 0.7177     -0.0909     0.1320\n",
       "chol                 0.0072     0.0366  0.1964 0.8443     -0.0646     0.0789\n",
       "fbs                  0.0707     0.5310  0.1331 0.8941     -0.9701     1.1114\n",
       "restecg              0.4568     0.3521  1.2973 0.1945     -0.2333     1.1469\n",
       "thalachh             0.0227     0.0105  2.1627 0.0306      0.0021     0.0433\n",
       "exng                -0.9454     0.4101 -2.3055 0.0211     -1.7492    -0.1417\n",
       "oldpeak             -0.5494     0.2162 -2.5407 0.0111     -0.9733    -0.1256\n",
       "slp                  0.5931     0.3510  1.6897 0.0911     -0.0949     1.2810\n",
       "caa                 -0.7950     0.1971 -4.0347 0.0001     -1.1813    -0.4088\n",
       "thall               -0.8825     0.2921 -3.0214 0.0025     -1.4550    -0.3100\n",
       "age_chol             0.0001     0.0004  0.3572 0.7209     -0.0007     0.0009\n",
       "bp_chol             -0.0002     0.0002 -0.7117 0.4766     -0.0006     0.0003\n",
       "age_category_30-45 -16.0826 15494.4863 -0.0010 0.9992 -30384.7177 30352.5525\n",
       "age_category_46-60 -16.4747 15494.4863 -0.0011 0.9992 -30385.1098 30352.1605\n",
       "age_category_>60   -16.3373 15494.4864 -0.0011 0.9992 -30384.9726 30352.2979\n",
       "============================================================================\n",
       "\n",
       "\"\"\""
      ]
     },
     "execution_count": 14,
     "metadata": {},
     "output_type": "execute_result"
    }
   ],
   "source": [
    "# Подготовим данные с новыми признаками к регрессии\n",
    "X_new_features_encoded = df_encoded.drop('output', axis=1) \n",
    "y = df_encoded['output']\n",
    "\n",
    "X_const_new_features_encoded = sm.add_constant(X_new_features_encoded)\n",
    "\n",
    "# строим логистическую регрессию\n",
    "model_new_features_encoded = sm.Logit(y, X_const_new_features_encoded)\n",
    "result_new_features_encoded = model_new_features_encoded.fit()\n",
    "\n",
    "# Получим описание новой модели\n",
    "logit_summary_new_features_encoded = result_new_features_encoded.summary2()\n",
    "logit_summary_new_features_encoded"
   ]
  },
  {
   "cell_type": "markdown",
   "id": "9700412d-1968-407f-9bb5-ed1508a4370f",
   "metadata": {},
   "source": [
    "Новые признаки:\n",
    "- age_category - коеффиценты новых возрастных признаков показали не стат. значимое влияние на целевую переменную\n",
    "- age_chol - новый признак, основанный на возрасте и уровне холестерина не оказался хорошим предиктором\n",
    "- bp_chol - признак давления в группе с холестерином также оказался не информативным по итогу.\n",
    "\n",
    "Старые признаки:\n",
    "Признаки, которые показали себя стат значимыми до добавления новых так и остались полезными для нас."
   ]
  },
  {
   "cell_type": "markdown",
   "id": "6531a38f-acdc-4030-8f4b-2f9854415b3d",
   "metadata": {},
   "source": [
    "## Сократим сложность модели"
   ]
  },
  {
   "cell_type": "code",
   "execution_count": 15,
   "id": "9218f8eb-c790-4586-80f4-3501876ef5e9",
   "metadata": {
    "tags": []
   },
   "outputs": [
    {
     "name": "stdout",
     "output_type": "stream",
     "text": [
      "Optimization terminated successfully.\n",
      "         Current function value: 0.368502\n",
      "         Iterations 7\n"
     ]
    },
    {
     "data": {
      "text/html": [
       "<table class=\"simpletable\">\n",
       "<tr>\n",
       "        <td>Model:</td>              <td>Logit</td>      <td>Pseudo R-squared:</td>    <td>0.465</td>  \n",
       "</tr>\n",
       "<tr>\n",
       "  <td>Dependent Variable:</td>      <td>output</td>            <td>AIC:</td>         <td>239.3125</td> \n",
       "</tr>\n",
       "<tr>\n",
       "         <td>Date:</td>        <td>2023-12-12 16:04</td>       <td>BIC:</td>         <td>269.0223</td> \n",
       "</tr>\n",
       "<tr>\n",
       "   <td>No. Observations:</td>         <td>303</td>        <td>Log-Likelihood:</td>    <td>-111.66</td> \n",
       "</tr>\n",
       "<tr>\n",
       "       <td>Df Model:</td>              <td>7</td>            <td>LL-Null:</td>        <td>-208.82</td> \n",
       "</tr>\n",
       "<tr>\n",
       "     <td>Df Residuals:</td>           <td>295</td>         <td>LLR p-value:</td>    <td>1.8244e-38</td>\n",
       "</tr>\n",
       "<tr>\n",
       "      <td>Converged:</td>           <td>1.0000</td>           <td>Scale:</td>         <td>1.0000</td>  \n",
       "</tr>\n",
       "<tr>\n",
       "    <td>No. Iterations:</td>        <td>7.0000</td>              <td></td>               <td></td>     \n",
       "</tr>\n",
       "</table>\n",
       "<table class=\"simpletable\">\n",
       "<tr>\n",
       "      <td></td>      <th>Coef.</th>  <th>Std.Err.</th>    <th>z</th>     <th>P>|z|</th> <th>[0.025</th>  <th>0.975]</th> \n",
       "</tr>\n",
       "<tr>\n",
       "  <th>const</th>    <td>0.4636</td>   <td>1.4816</td>  <td>0.3129</td>  <td>0.7544</td> <td>-2.4404</td> <td>3.3675</td> \n",
       "</tr>\n",
       "<tr>\n",
       "  <th>sex</th>      <td>-1.3896</td>  <td>0.4058</td>  <td>-3.4245</td> <td>0.0006</td> <td>-2.1849</td> <td>-0.5943</td>\n",
       "</tr>\n",
       "<tr>\n",
       "  <th>cp</th>       <td>0.7872</td>   <td>0.1747</td>  <td>4.5054</td>  <td>0.0000</td> <td>0.4447</td>  <td>1.1296</td> \n",
       "</tr>\n",
       "<tr>\n",
       "  <th>thalachh</th> <td>0.0237</td>   <td>0.0088</td>  <td>2.6851</td>  <td>0.0073</td> <td>0.0064</td>  <td>0.0409</td> \n",
       "</tr>\n",
       "<tr>\n",
       "  <th>exng</th>     <td>-1.0447</td>  <td>0.3890</td>  <td>-2.6855</td> <td>0.0072</td> <td>-1.8071</td> <td>-0.2822</td>\n",
       "</tr>\n",
       "<tr>\n",
       "  <th>oldpeak</th>  <td>-0.7406</td>  <td>0.1824</td>  <td>-4.0609</td> <td>0.0000</td> <td>-1.0981</td> <td>-0.3832</td>\n",
       "</tr>\n",
       "<tr>\n",
       "  <th>caa</th>      <td>-0.7133</td>  <td>0.1744</td>  <td>-4.0903</td> <td>0.0000</td> <td>-1.0552</td> <td>-0.3715</td>\n",
       "</tr>\n",
       "<tr>\n",
       "  <th>thall</th>    <td>-0.8963</td>  <td>0.2745</td>  <td>-3.2647</td> <td>0.0011</td> <td>-1.4343</td> <td>-0.3582</td>\n",
       "</tr>\n",
       "</table>"
      ],
      "text/plain": [
       "<class 'statsmodels.iolib.summary2.Summary'>\n",
       "\"\"\"\n",
       "                         Results: Logit\n",
       "=================================================================\n",
       "Model:              Logit            Pseudo R-squared: 0.465     \n",
       "Dependent Variable: output           AIC:              239.3125  \n",
       "Date:               2023-12-12 16:04 BIC:              269.0223  \n",
       "No. Observations:   303              Log-Likelihood:   -111.66   \n",
       "Df Model:           7                LL-Null:          -208.82   \n",
       "Df Residuals:       295              LLR p-value:      1.8244e-38\n",
       "Converged:          1.0000           Scale:            1.0000    \n",
       "No. Iterations:     7.0000                                       \n",
       "------------------------------------------------------------------\n",
       "               Coef.   Std.Err.     z     P>|z|    [0.025   0.975]\n",
       "------------------------------------------------------------------\n",
       "const          0.4636    1.4816   0.3129  0.7544  -2.4404   3.3675\n",
       "sex           -1.3896    0.4058  -3.4245  0.0006  -2.1849  -0.5943\n",
       "cp             0.7872    0.1747   4.5054  0.0000   0.4447   1.1296\n",
       "thalachh       0.0237    0.0088   2.6851  0.0073   0.0064   0.0409\n",
       "exng          -1.0447    0.3890  -2.6855  0.0072  -1.8071  -0.2822\n",
       "oldpeak       -0.7406    0.1824  -4.0609  0.0000  -1.0981  -0.3832\n",
       "caa           -0.7133    0.1744  -4.0903  0.0000  -1.0552  -0.3715\n",
       "thall         -0.8963    0.2745  -3.2647  0.0011  -1.4343  -0.3582\n",
       "=================================================================\n",
       "\n",
       "\"\"\""
      ]
     },
     "execution_count": 15,
     "metadata": {},
     "output_type": "execute_result"
    }
   ],
   "source": [
    "# Оставим только стат значимые переменные\n",
    "significant = ['sex', 'cp', 'thalachh', 'exng', 'oldpeak', 'caa', 'thall']\n",
    "X_significant = df_encoded[significant]\n",
    "X_const_significant = sm.add_constant(X_significant)\n",
    "\n",
    "# Строим лог регрессию\n",
    "model_significant = sm.Logit(y, X_const_significant)\n",
    "result_significant = model_significant.fit()\n",
    "\n",
    "# Получим описание получившейся модели\n",
    "logit_summary_significant_predictors = result_significant.summary2()\n",
    "logit_summary_significant_predictors"
   ]
  },
  {
   "cell_type": "markdown",
   "id": "a5ef5d56-5ab2-4e87-a1d5-e48a21382c9d",
   "metadata": {},
   "source": [
    "Коеффиценты модели хорошо коррелируют с целевой переменной модели.\\\n",
    "Метрика pseudo R-squared равна *0.465*, что означает неплохой предсказательный успех модели."
   ]
  },
  {
   "cell_type": "markdown",
   "id": "058297fb-68f6-4aaf-919f-4299c9e317a5",
   "metadata": {},
   "source": [
    "## Окончательное моделирование"
   ]
  },
  {
   "cell_type": "code",
   "execution_count": 16,
   "id": "1bf23839-927e-4ad9-a420-10d752708a22",
   "metadata": {
    "tags": []
   },
   "outputs": [],
   "source": [
    "from sklearn.model_selection import train_test_split\n",
    "from sklearn.metrics import accuracy_score, precision_score, recall_score, f1_score, roc_auc_score"
   ]
  },
  {
   "cell_type": "code",
   "execution_count": 17,
   "id": "d178f049-9266-472a-a1f1-c2135a556de9",
   "metadata": {
    "tags": []
   },
   "outputs": [
    {
     "name": "stderr",
     "output_type": "stream",
     "text": [
      "C:\\Users\\Max\\AppData\\Local\\Programs\\Python\\Python39\\lib\\site-packages\\sklearn\\linear_model\\_logistic.py:458: ConvergenceWarning: lbfgs failed to converge (status=1):\n",
      "STOP: TOTAL NO. of ITERATIONS REACHED LIMIT.\n",
      "\n",
      "Increase the number of iterations (max_iter) or scale the data as shown in:\n",
      "    https://scikit-learn.org/stable/modules/preprocessing.html\n",
      "Please also refer to the documentation for alternative solver options:\n",
      "    https://scikit-learn.org/stable/modules/linear_model.html#logistic-regression\n",
      "  n_iter_i = _check_optimize_result(\n"
     ]
    },
    {
     "data": {
      "text/plain": [
       "{'Accuracy': 0.8351648351648352,\n",
       " 'Precision': 0.8571428571428571,\n",
       " 'Recall': 0.84,\n",
       " 'F1 Score': 0.8484848484848485,\n",
       " 'ROC-AUC Score': 0.8985365853658537}"
      ]
     },
     "execution_count": 17,
     "metadata": {},
     "output_type": "execute_result"
    }
   ],
   "source": [
    "# Разделим датасет на тренировочные и тестовые выборки\n",
    "X_train, X_test, y_train, y_test = train_test_split(X_const_significant, y, test_size=0.3, random_state=69)\n",
    "\n",
    "# Натренируем модель\n",
    "lr_model = LogisticRegression()\n",
    "lr_model.fit(X_train, y_train)\n",
    "\n",
    "# Получим предсказания на тестовой выборке\n",
    "y_pred = lr_model.predict(X_test)\n",
    "y_pred_proba = lr_model.predict_proba(X_test)[:, 1]\n",
    "\n",
    "# Посмотрим как наша модель справилась\n",
    "accuracy = accuracy_score(y_test, y_pred)\n",
    "precision = precision_score(y_test, y_pred)\n",
    "recall = recall_score(y_test, y_pred)\n",
    "f1 = f1_score(y_test, y_pred)\n",
    "roc_auc = roc_auc_score(y_test, y_pred_proba)\n",
    "\n",
    "performance_metrics = {\n",
    "    \"Accuracy\": accuracy,\n",
    "    \"Precision\": precision,\n",
    "    \"Recall\": recall,\n",
    "    \"F1 Score\": f1,\n",
    "    \"ROC-AUC Score\": roc_auc\n",
    "}\n",
    "\n",
    "performance_metrics"
   ]
  },
  {
   "cell_type": "markdown",
   "id": "719ed01a-f7a8-4705-b187-59172e59ed32",
   "metadata": {},
   "source": [
    "The logistic regression model's predictive performance on the test set is as follows:\n",
    "- Accuracy: 83.52% - Модель правильно предсказала наличие или отсутствие проблем с сердцем в 83.52% случаев тестовой выборки.\n",
    "- Precision: 85.71% - Из всех положительных предсказаний модели, 85.71% оказались верными.\n",
    "- Recall: 84.00% - Из всех положительных наблюдений модель верно определила 84.00%.\n",
    "- F1 Score: 84.85% - Среднее гармоническое precision и recall.\n",
    "- ROC-AUC Score: 87.41% - Результат по этой метрике крайне близок к 1, что указывает на хорошее умение модели отличать больных от здоровых по выделенным нами признакам"
   ]
  }
 ],
 "metadata": {
  "kernelspec": {
   "display_name": "Python 3 (ipykernel)",
   "language": "python",
   "name": "python3"
  },
  "language_info": {
   "codemirror_mode": {
    "name": "ipython",
    "version": 3
   },
   "file_extension": ".py",
   "mimetype": "text/x-python",
   "name": "python",
   "nbconvert_exporter": "python",
   "pygments_lexer": "ipython3",
   "version": "3.9.6"
  }
 },
 "nbformat": 4,
 "nbformat_minor": 5
}
